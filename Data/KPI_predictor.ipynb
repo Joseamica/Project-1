{
 "cells": [
  {
   "cell_type": "code",
   "execution_count": 26,
   "metadata": {},
   "outputs": [],
   "source": [
    "# # <pip install import-ipynb> Allows you to import other ipynb files to a new jupyter notebook\n",
    "# import import_ipynb\n",
    "# from main import data\n",
    "\n",
    "# Import other modules\n",
    "import pandas as pd\n",
    "import ast # Library for convert string representation of dict to a dict\n",
    "from sklearn.preprocessing import MultiLabelBinarizer"
   ]
  },
  {
   "cell_type": "code",
   "execution_count": 2,
   "metadata": {},
   "outputs": [],
   "source": [
    "# Read the dataset\n",
    "df = pd.read_csv('yelp_business.csv')"
   ]
  },
  {
   "cell_type": "code",
   "execution_count": 37,
   "metadata": {},
   "outputs": [],
   "source": [
    "# Data Pre-processing / Cleaning Step\n",
    "    # Remove unnecessary columns\n",
    "clean_df = df.drop(columns=['address', 'city', 'hours', 'postal_code', 'review_count',\n",
    "                            'stars', 'Standardized Stars'])\n",
    "clean_df = clean_df.drop(clean_df.columns[0], axis=1)\n",
    "\n",
    "    # Filter by Restaurants\n",
    "clean_restaurants = clean_df[clean_df['categories'].str.contains(\"Restaurants\") == True]\n",
    "\n",
    "    # Filter by currently open restaurants\n",
    "clean_restaurants = clean_restaurants[clean_restaurants['is_open'] == 1]\n",
    "\n",
    "    # Drop \"is_open\" column because does not have meaning after the filter\n",
    "clean_restaurants = clean_restaurants.drop(columns=['is_open'])\n",
    "    \n",
    "    # Organize order of columns\n",
    "clean_restaurants = clean_restaurants[['business_id', 'name', 'attributes', 'categories', 'latitude', 'longitude',\n",
    "                                       'state', 'KPI']].reset_index()\n",
    "clean_restaurants = clean_restaurants.drop(columns=['index'])\n",
    "\n",
    "    # Convert categories column instances to lists\n",
    "clean_restaurants['categories'] = clean_restaurants['categories'].str.split(',')\n",
    "\n",
    "    # Remove blank spaces in the beginning and the end of strings in the lists of categories column\n",
    "clean_restaurants['categories'] = clean_restaurants['categories'].map(lambda l: list(map(str.strip, l)))\n",
    "\n",
    "# Data Pre-processing / Encoding Step\n",
    "\n",
    "    # Create encoding object\n",
    "mlb = MultiLabelBinarizer()\n",
    "    \n",
    "    # Fit 'categories' column to encoding object\n",
    "categories = pd.DataFrame(mlb.fit_transform(clean_restaurants['categories']), \n",
    "                       columns=mlb.classes_, \n",
    "                       index=clean_restaurants.index)\n",
    "# pd.set_option('display.max_columns', None)\n",
    "# pd.set_option('display.max_rows', None)\n",
    "# encoded.sum()"
   ]
  },
  {
   "cell_type": "code",
   "execution_count": null,
   "metadata": {},
   "outputs": [],
   "source": [
    "# Add KPI and names to categories table\n",
    "categories['KPI'] = clean_restaurants['KPI']\n",
    "categories['name'] = clean_restaurants['name']"
   ]
  },
  {
   "cell_type": "code",
   "execution_count": null,
   "metadata": {},
   "outputs": [],
   "source": [
    "# Convert attribute column instances to dicts\n",
    "attr_clean_restaurants['attributes'] = clean_restaurants['attributes'].dropna().apply(ast.literal_eval)\n",
    "\n",
    "# Splitting dict on 'attribute' column\n",
    "attributes = attr_clean_restaurants['attributes'].apply(pd.Series)"
   ]
  },
  {
   "cell_type": "code",
   "execution_count": null,
   "metadata": {},
   "outputs": [],
   "source": [
    "# Check out atribute dataframe sparsity\n",
    "attributes.count()"
   ]
  },
  {
   "cell_type": "code",
   "execution_count": 24,
   "metadata": {},
   "outputs": [],
   "source": [
    "# Add KPI and names to attributes table\n",
    "attributes['KPI'] = clean_restaurants['KPI']\n",
    "attributes['name'] = clean_restaurants['name']\n",
    "\n",
    "# Export attributes table to csv\n",
    "attributes.to_csv(\"attribute_KPI.csv\")"
   ]
  },
  {
   "cell_type": "code",
   "execution_count": null,
   "metadata": {},
   "outputs": [],
   "source": [
    "# Split list on 'categories' column"
   ]
  },
  {
   "cell_type": "code",
   "execution_count": null,
   "metadata": {},
   "outputs": [],
   "source": [
    "\n",
    "\n",
    "\n",
    "# for genre in set.union(*categories.genre.apply(set)):\n",
    "#     categories[genre] = categories.apply(lambda _: int(_.genre.count(genre)), axis=1)"
   ]
  },
  {
   "cell_type": "code",
   "execution_count": null,
   "metadata": {},
   "outputs": [],
   "source": [
    "# clean_restaurants"
   ]
  },
  {
   "cell_type": "code",
   "execution_count": null,
   "metadata": {},
   "outputs": [],
   "source": []
  }
 ],
 "metadata": {
  "kernelspec": {
   "display_name": "Python 3",
   "language": "python",
   "name": "python3"
  },
  "language_info": {
   "codemirror_mode": {
    "name": "ipython",
    "version": 3
   },
   "file_extension": ".py",
   "mimetype": "text/x-python",
   "name": "python",
   "nbconvert_exporter": "python",
   "pygments_lexer": "ipython3",
   "version": "3.6.8"
  }
 },
 "nbformat": 4,
 "nbformat_minor": 2
}
