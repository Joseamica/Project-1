{
 "cells": [
  {
   "cell_type": "code",
   "execution_count": 77,
   "metadata": {},
   "outputs": [],
   "source": [
    "# # <pip install import-ipynb> Allows you to import other ipynb files to a new jupyter notebook\n",
    "# import import_ipynb\n",
    "# from main import data\n",
    "\n",
    "# Import other modules\n",
    "import pandas as pd\n",
    "import ast # Library for convert string representation of dict to a dict"
   ]
  },
  {
   "cell_type": "code",
   "execution_count": 93,
   "metadata": {},
   "outputs": [],
   "source": [
    "# Read the dataset\n",
    "df = pd.read_csv('yelp_business.csv')"
   ]
  },
  {
   "cell_type": "code",
   "execution_count": null,
   "metadata": {},
   "outputs": [],
   "source": [
    "# Data Pre-processing / Cleaning Step\n",
    "    # Remove unnecessary columns\n",
    "clean_df = df.drop(columns=['address', 'business_id', 'city', 'hours', 'postal_code', 'review_count',\n",
    "                            'stars', 'Standardized Stars'])\n",
    "clean_df = clean_df.drop(clean_df.columns[0], axis=1)\n",
    "\n",
    "    # Filter by Restaurants\n",
    "clean_restaurants = clean_df[clean_df['categories'].str.contains(\"Restaurants\") == True]\n",
    "\n",
    "    # Filter by currently open restaurants\n",
    "clean_restaurants = clean_restaurants[clean_restaurants['is_open'] == 1]\n",
    "\n",
    "    # Drop \"is_open\" column because does not have meaning after the filter\n",
    "clean_restaurants = clean_restaurants.drop(columns=['is_open'])\n",
    "    \n",
    "    # Organize order of columns\n",
    "clean_restaurants = clean_restaurants[['name', 'attributes', 'categories', 'latitude', 'longitude', 'state', 'KPI']].reset_index()\n",
    "clean_restaurants = clean_restaurants.drop(columns=['index'])\n",
    "\n",
    "    # Convert attribute column instances to dicts\n",
    "clean_restaurants['attributes'] = clean_restaurants['attributes'].dropna().apply(ast.literal_eval)\n",
    "\n",
    "    # Splitting dict on 'attribute' column\n",
    "attributes = clean_restaurants['attributes'].apply(pd.Series)"
   ]
  },
  {
   "cell_type": "code",
   "execution_count": 94,
   "metadata": {},
   "outputs": [
    {
     "data": {
      "text/plain": [
       "0                                 0\n",
       "AcceptsInsurance                 15\n",
       "AgesAllowed                      24\n",
       "Alcohol                       31310\n",
       "Ambience                      33077\n",
       "BYOB                             26\n",
       "BYOBCorkage                     876\n",
       "BestNights                     2360\n",
       "BikeParking                   31251\n",
       "BusinessAcceptsBitcoin         2687\n",
       "BusinessAcceptsCreditCards    24168\n",
       "BusinessParking               33637\n",
       "ByAppointmentOnly               537\n",
       "Caters                        26537\n",
       "CoatCheck                      2150\n",
       "Corkage                         427\n",
       "DietaryRestrictions              51\n",
       "DogsAllowed                    3386\n",
       "DriveThru                      2825\n",
       "GoodForDancing                 2957\n",
       "GoodForKids                   36137\n",
       "GoodForMeal                   25702\n",
       "HairSpecializesIn                 4\n",
       "HappyHour                      3252\n",
       "HasTV                         32847\n",
       "Music                          3258\n",
       "NoiseLevel                    29296\n",
       "Open24Hours                       6\n",
       "OutdoorSeating                33964\n",
       "RestaurantsAttire             33929\n",
       "RestaurantsCounterService         9\n",
       "RestaurantsDelivery           36182\n",
       "RestaurantsGoodForGroups      36220\n",
       "RestaurantsPriceRange2        36655\n",
       "RestaurantsReservations       36519\n",
       "RestaurantsTableService       14042\n",
       "RestaurantsTakeOut            37739\n",
       "Smoking                        2004\n",
       "WheelchairAccessible           6479\n",
       "WiFi                          30686\n",
       "dtype: int64"
      ]
     },
     "execution_count": 94,
     "metadata": {},
     "output_type": "execute_result"
    }
   ],
   "source": [
    "# Check out atribute dataframe sparsity\n",
    "attributes.count()"
   ]
  },
  {
   "cell_type": "code",
   "execution_count": 60,
   "metadata": {},
   "outputs": [],
   "source": [
    "# Data Pre-processing / Encoding Step\n"
   ]
  },
  {
   "cell_type": "code",
   "execution_count": null,
   "metadata": {},
   "outputs": [],
   "source": []
  }
 ],
 "metadata": {
  "kernelspec": {
   "display_name": "Python 3",
   "language": "python",
   "name": "python3"
  },
  "language_info": {
   "codemirror_mode": {
    "name": "ipython",
    "version": 3
   },
   "file_extension": ".py",
   "mimetype": "text/x-python",
   "name": "python",
   "nbconvert_exporter": "python",
   "pygments_lexer": "ipython3",
   "version": "3.6.8"
  }
 },
 "nbformat": 4,
 "nbformat_minor": 2
}
