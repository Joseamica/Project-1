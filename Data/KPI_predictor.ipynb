{
 "cells": [
  {
   "cell_type": "code",
   "execution_count": 1,
   "metadata": {},
   "outputs": [
    {
     "name": "stdout",
     "output_type": "stream",
     "text": [
      "importing Jupyter notebook from main.ipynb\n"
     ]
    },
    {
     "data": {
      "text/plain": [
       "<Figure size 640x480 with 1 Axes>"
      ]
     },
     "metadata": {},
     "output_type": "display_data"
    },
    {
     "data": {
      "text/plain": [
       "<Figure size 640x480 with 1 Axes>"
      ]
     },
     "metadata": {},
     "output_type": "display_data"
    },
    {
     "data": {
      "text/plain": [
       "<Figure size 640x480 with 1 Axes>"
      ]
     },
     "metadata": {},
     "output_type": "display_data"
    },
    {
     "data": {
      "text/plain": [
       "<Figure size 640x480 with 1 Axes>"
      ]
     },
     "metadata": {},
     "output_type": "display_data"
    }
   ],
   "source": [
    "# # <pip install import-ipynb> Allows you to import other ipynb files to a new jupyter notebook\n",
    "import import_ipynb\n",
    "from main import data\n",
    "import matplotlib.pyplot as plt\n",
    "# Import other modules\n",
    "import pandas as pd\n",
    "import ast # Library for convert string representation of dict to a dict\n",
    "from IPython.core.interactiveshell import InteractiveShell\n",
    "InteractiveShell.ast_node_interactivity = \"all\"\n",
    "import numpy as np\n",
    "from IPython.core.interactiveshell import InteractiveShell\n",
    "InteractiveShell.ast_node_interactivity = \"all\""
   ]
  },
  {
   "cell_type": "code",
   "execution_count": 30,
   "metadata": {},
   "outputs": [],
   "source": [
    "# Read the dataset\n",
    "df = pd.read_csv('yelp_business.csv')\n",
    "\n",
    "# Data Pre-processing / Cleaning Step\n",
    "    # Remove unnecessary columns\n",
    "clean_df = df.drop(columns=['address', 'business_id', 'city', 'hours', 'postal_code', 'review_count',\n",
    "                            'stars', 'Standardized Stars'])\n",
    "clean_df = clean_df.drop(clean_df.columns[0], axis=1)\n",
    "\n",
    "    # Filter by Restaurants\n",
    "clean_restaurants = clean_df[clean_df['categories'].str.contains(\"Restaurants\") == True]\n",
    "\n",
    "    # Filter by currently open restaurants\n",
    "clean_restaurants = clean_restaurants[clean_restaurants['is_open'] == 1]\n",
    "\n",
    "    # Drop \"is_open\" column because does not have meaning after the filter\n",
    "clean_restaurants = clean_restaurants.drop(columns=['is_open'])\n",
    "    \n",
    "    # Organize order of columns\n",
    "clean_restaurants = clean_restaurants[['name', 'attributes', 'categories', 'latitude', 'longitude', 'state', 'KPI']].reset_index()\n",
    "clean_restaurants = clean_restaurants.drop(columns=['index'])\n",
    "clean_restaurants['attributes'] = clean_restaurants['attributes'].dropna().apply(ast.literal_eval)\n",
    "# clean_restaurants.attributes[0]\n",
    "\n",
    "    # Splitting dict on 'attribute' column\n",
    "attributes = clean_restaurants['attributes'].apply(pd.Series)\n",
    "\n"
   ]
  },
  {
   "cell_type": "code",
   "execution_count": 3,
   "metadata": {},
   "outputs": [
    {
     "data": {
      "text/plain": [
       "Index([                           0,           'AcceptsInsurance',\n",
       "                      'AgesAllowed',                    'Alcohol',\n",
       "                         'Ambience',                       'BYOB',\n",
       "                      'BYOBCorkage',                 'BestNights',\n",
       "                      'BikeParking',     'BusinessAcceptsBitcoin',\n",
       "       'BusinessAcceptsCreditCards',            'BusinessParking',\n",
       "                'ByAppointmentOnly',                     'Caters',\n",
       "                        'CoatCheck',                    'Corkage',\n",
       "              'DietaryRestrictions',                'DogsAllowed',\n",
       "                        'DriveThru',             'GoodForDancing',\n",
       "                      'GoodForKids',                'GoodForMeal',\n",
       "                'HairSpecializesIn',                  'HappyHour',\n",
       "                            'HasTV',                      'Music',\n",
       "                       'NoiseLevel',                'Open24Hours',\n",
       "                   'OutdoorSeating',          'RestaurantsAttire',\n",
       "        'RestaurantsCounterService',        'RestaurantsDelivery',\n",
       "         'RestaurantsGoodForGroups',     'RestaurantsPriceRange2',\n",
       "          'RestaurantsReservations',    'RestaurantsTableService',\n",
       "               'RestaurantsTakeOut',                    'Smoking',\n",
       "             'WheelchairAccessible',                       'WiFi'],\n",
       "      dtype='object')"
      ]
     },
     "execution_count": 3,
     "metadata": {},
     "output_type": "execute_result"
    }
   ],
   "source": [
    "attributes_c = attributes\n",
    "attributes_c.columns"
   ]
  },
  {
   "cell_type": "code",
   "execution_count": 4,
   "metadata": {},
   "outputs": [],
   "source": [
    "#create a list of columns to delete\n",
    "delete_attributes_colums = ['HairSpecializesIn', 'AcceptsInsurance',\n",
    "                            'BYOB', 'RestaurantsCounterService',\n",
    "                            'Alcohol',                   'Ambience',\n",
    "                      'BYOBCorkage',                 'BestNights',\n",
    "                      'BikeParking',     'BusinessAcceptsBitcoin',\n",
    "       'BusinessAcceptsCreditCards',            'BusinessParking',\n",
    "                'ByAppointmentOnly',                     'Caters',\n",
    "                        'CoatCheck',                    'Corkage',\n",
    "              'DietaryRestrictions',                'DogsAllowed',\n",
    "                        'DriveThru',             'GoodForDancing',\n",
    "                      'GoodForKids',                'GoodForMeal',\n",
    "                        'HappyHour',                      'HasTV',\n",
    "                            'Music',                 'NoiseLevel',\n",
    "                      'Open24Hours',             'OutdoorSeating',\n",
    "                'RestaurantsAttire',        'RestaurantsDelivery',\n",
    "         'RestaurantsGoodForGroups',     'RestaurantsPriceRange2',\n",
    "          'RestaurantsReservations',    'RestaurantsTableService',\n",
    "        'AgesAllowed', 'RestaurantsTakeOut', 'WheelchairAccessible',0,'WiFi']\n",
    "#drop the columns\n",
    "delete_cols = attributes_c.drop(delete_attributes_colums, axis=1, inplace=True)\n"
   ]
  },
  {
   "cell_type": "code",
   "execution_count": 15,
   "metadata": {},
   "outputs": [
    {
     "data": {
      "text/html": [
       "<div>\n",
       "<style scoped>\n",
       "    .dataframe tbody tr th:only-of-type {\n",
       "        vertical-align: middle;\n",
       "    }\n",
       "\n",
       "    .dataframe tbody tr th {\n",
       "        vertical-align: top;\n",
       "    }\n",
       "\n",
       "    .dataframe thead th {\n",
       "        text-align: right;\n",
       "    }\n",
       "</style>\n",
       "<table border=\"1\" class=\"dataframe\">\n",
       "  <thead>\n",
       "    <tr style=\"text-align: right;\">\n",
       "      <th></th>\n",
       "      <th>Non-Smoker</th>\n",
       "      <th>Smoker</th>\n",
       "      <th>Outdoor</th>\n",
       "    </tr>\n",
       "  </thead>\n",
       "  <tbody>\n",
       "    <tr>\n",
       "      <th>0</th>\n",
       "      <td>586</td>\n",
       "      <td>55</td>\n",
       "      <td>330</td>\n",
       "    </tr>\n",
       "  </tbody>\n",
       "</table>\n",
       "</div>"
      ],
      "text/plain": [
       "   Non-Smoker  Smoker  Outdoor\n",
       "0         586      55      330"
      ]
     },
     "execution_count": 15,
     "metadata": {},
     "output_type": "execute_result"
    }
   ],
   "source": [
    "#fill nas with number 2\n",
    "#attributes_c = attributes_c.fillna(2)\n",
    "#drop all NaN values in Smoking Column\n",
    "attributes_c = attributes_c.dropna(axis=0, subset=['Smoking'])\n",
    "\n",
    "#Add data['KPI'] values in attributes\n",
    "attributes_c['KPI'] = data['KPI']\n",
    "\n",
    "\n",
    "#smoking status above kpi average\n",
    "non_smoking = attributes_c.loc[(attributes_c['KPI'] > 0.015) & (attributes_c['Smoking'] == 'u\\'no\\'')].count()\n",
    "smoking = attributes_c.loc[(attributes_c['KPI'] > 0.015) & (attributes_c['Smoking'] == 'u\\'yes\\'')].count()\n",
    "outdoor_smoking = attributes_c.loc[(attributes_c['KPI'] > 0.015) & (attributes_c['Smoking'] == 'u\\'outdoor\\'')].count()\n",
    "\n",
    "#create df\n",
    "rest_smoking_above_avg = pd.DataFrame({'Non-Smoker':non_smoking['Smoking'], 'Smoker':smoking['Smoking'], 'Outdoor':outdoor_smoking['Smoking']},index=[0])\n",
    "rest_smoking_above_avg\n",
    "\n",
    "\n"
   ]
  },
  {
   "cell_type": "code",
   "execution_count": 33,
   "metadata": {},
   "outputs": [
    {
     "ename": "MergeError",
     "evalue": "No common columns to perform merge on. Merge options: left_on=None, right_on=None, left_index=False, right_index=False",
     "output_type": "error",
     "traceback": [
      "\u001b[0;31m---------------------------------------------------------------------------\u001b[0m",
      "\u001b[0;31mMergeError\u001b[0m                                Traceback (most recent call last)",
      "\u001b[0;32m<ipython-input-33-70eac69976e6>\u001b[0m in \u001b[0;36m<module>\u001b[0;34m\u001b[0m\n\u001b[0;32m----> 1\u001b[0;31m \u001b[0mx\u001b[0m \u001b[0;34m=\u001b[0m \u001b[0mpd\u001b[0m\u001b[0;34m.\u001b[0m\u001b[0mmerge\u001b[0m\u001b[0;34m(\u001b[0m\u001b[0mdata\u001b[0m\u001b[0;34m,\u001b[0m \u001b[0mattributes\u001b[0m\u001b[0;34m)\u001b[0m\u001b[0;34m\u001b[0m\u001b[0;34m\u001b[0m\u001b[0m\n\u001b[0m",
      "\u001b[0;32m/anaconda3/lib/python3.7/site-packages/pandas/core/reshape/merge.py\u001b[0m in \u001b[0;36mmerge\u001b[0;34m(left, right, how, on, left_on, right_on, left_index, right_index, sort, suffixes, copy, indicator, validate)\u001b[0m\n\u001b[1;32m     45\u001b[0m                          \u001b[0mright_index\u001b[0m\u001b[0;34m=\u001b[0m\u001b[0mright_index\u001b[0m\u001b[0;34m,\u001b[0m \u001b[0msort\u001b[0m\u001b[0;34m=\u001b[0m\u001b[0msort\u001b[0m\u001b[0;34m,\u001b[0m \u001b[0msuffixes\u001b[0m\u001b[0;34m=\u001b[0m\u001b[0msuffixes\u001b[0m\u001b[0;34m,\u001b[0m\u001b[0;34m\u001b[0m\u001b[0;34m\u001b[0m\u001b[0m\n\u001b[1;32m     46\u001b[0m                          \u001b[0mcopy\u001b[0m\u001b[0;34m=\u001b[0m\u001b[0mcopy\u001b[0m\u001b[0;34m,\u001b[0m \u001b[0mindicator\u001b[0m\u001b[0;34m=\u001b[0m\u001b[0mindicator\u001b[0m\u001b[0;34m,\u001b[0m\u001b[0;34m\u001b[0m\u001b[0;34m\u001b[0m\u001b[0m\n\u001b[0;32m---> 47\u001b[0;31m                          validate=validate)\n\u001b[0m\u001b[1;32m     48\u001b[0m     \u001b[0;32mreturn\u001b[0m \u001b[0mop\u001b[0m\u001b[0;34m.\u001b[0m\u001b[0mget_result\u001b[0m\u001b[0;34m(\u001b[0m\u001b[0;34m)\u001b[0m\u001b[0;34m\u001b[0m\u001b[0;34m\u001b[0m\u001b[0m\n\u001b[1;32m     49\u001b[0m \u001b[0;34m\u001b[0m\u001b[0m\n",
      "\u001b[0;32m/anaconda3/lib/python3.7/site-packages/pandas/core/reshape/merge.py\u001b[0m in \u001b[0;36m__init__\u001b[0;34m(self, left, right, how, on, left_on, right_on, axis, left_index, right_index, sort, suffixes, copy, indicator, validate)\u001b[0m\n\u001b[1;32m    522\u001b[0m             \u001b[0mwarnings\u001b[0m\u001b[0;34m.\u001b[0m\u001b[0mwarn\u001b[0m\u001b[0;34m(\u001b[0m\u001b[0mmsg\u001b[0m\u001b[0;34m,\u001b[0m \u001b[0mUserWarning\u001b[0m\u001b[0;34m)\u001b[0m\u001b[0;34m\u001b[0m\u001b[0;34m\u001b[0m\u001b[0m\n\u001b[1;32m    523\u001b[0m \u001b[0;34m\u001b[0m\u001b[0m\n\u001b[0;32m--> 524\u001b[0;31m         \u001b[0mself\u001b[0m\u001b[0;34m.\u001b[0m\u001b[0m_validate_specification\u001b[0m\u001b[0;34m(\u001b[0m\u001b[0;34m)\u001b[0m\u001b[0;34m\u001b[0m\u001b[0;34m\u001b[0m\u001b[0m\n\u001b[0m\u001b[1;32m    525\u001b[0m \u001b[0;34m\u001b[0m\u001b[0m\n\u001b[1;32m    526\u001b[0m         \u001b[0;31m# note this function has side effects\u001b[0m\u001b[0;34m\u001b[0m\u001b[0;34m\u001b[0m\u001b[0;34m\u001b[0m\u001b[0m\n",
      "\u001b[0;32m/anaconda3/lib/python3.7/site-packages/pandas/core/reshape/merge.py\u001b[0m in \u001b[0;36m_validate_specification\u001b[0;34m(self)\u001b[0m\n\u001b[1;32m   1031\u001b[0m                         \u001b[0;34m'left_index={lidx}, right_index={ridx}'\u001b[0m\u001b[0;34m\u001b[0m\u001b[0;34m\u001b[0m\u001b[0m\n\u001b[1;32m   1032\u001b[0m                         .format(lon=self.left_on, ron=self.right_on,\n\u001b[0;32m-> 1033\u001b[0;31m                                 lidx=self.left_index, ridx=self.right_index))\n\u001b[0m\u001b[1;32m   1034\u001b[0m                 \u001b[0;32mif\u001b[0m \u001b[0;32mnot\u001b[0m \u001b[0mcommon_cols\u001b[0m\u001b[0;34m.\u001b[0m\u001b[0mis_unique\u001b[0m\u001b[0;34m:\u001b[0m\u001b[0;34m\u001b[0m\u001b[0;34m\u001b[0m\u001b[0m\n\u001b[1;32m   1035\u001b[0m                     raise MergeError(\"Data columns not unique: {common!r}\"\n",
      "\u001b[0;31mMergeError\u001b[0m: No common columns to perform merge on. Merge options: left_on=None, right_on=None, left_index=False, right_index=False"
     ]
    }
   ],
   "source": [
    "x = pd.merge(data, attributes)"
   ]
  },
  {
   "cell_type": "code",
   "execution_count": 14,
   "metadata": {},
   "outputs": [
    {
     "data": {
      "text/plain": [
       "<matplotlib.axes._subplots.AxesSubplot at 0x1a1b655278>"
      ]
     },
     "execution_count": 14,
     "metadata": {},
     "output_type": "execute_result"
    },
    {
     "data": {
      "text/plain": [
       "Text(0.5, 1.0, 'How much influences smoking in a restaurant in ratings?')"
      ]
     },
     "execution_count": 14,
     "metadata": {},
     "output_type": "execute_result"
    },
    {
     "data": {
      "text/plain": [
       "Text(0.5, 0, 'Type of restaurants')"
      ]
     },
     "execution_count": 14,
     "metadata": {},
     "output_type": "execute_result"
    },
    {
     "data": {
      "text/plain": [
       "Text(0, 0.5, 'Restaurants above KPI average (0.015)')"
      ]
     },
     "execution_count": 14,
     "metadata": {},
     "output_type": "execute_result"
    },
    {
     "data": {
      "image/png": "[encoded data removed]",
      "text/plain": [
       "<Figure size 432x288 with 1 Axes>"
      ]
     },
     "metadata": {
      "needs_background": "light"
     },
     "output_type": "display_data"
    }
   ],
   "source": [
    "rest_smoking_above_avg.plot(kind='bar')\n",
    "plt.title('How much influences smoking in a restaurant in ratings?')\n",
    "plt.xlabel('Type of restaurants')\n",
    "plt.ylabel('Restaurants above KPI average (0.015)')"
   ]
  },
  {
   "cell_type": "raw",
   "metadata": {},
   "source": [
    "dummy_smokes = pd.get_dummies(attributes['Smoking'], prefix='smoking')\n",
    "df5 = pd.merge(data,attributes,sort=True, how='right')\n",
    "df6 = df5[['name','KPI','city','smoking_u\\'no\\'', 'smoking_u\\'yes\\'', 'smoking_u\\'outdoor\\'']]\n",
    "df6 = df6.rename(columns={'smoking_u\\'no\\'':'Non_smoking', 'smoking_u\\'yes\\'':'Smoker', \n",
    "                          'smoking_u\\'outdoor\\'':'Outdoor_smoking'})\n",
    "\n",
    "\n",
    "\n",
    "df6\n",
    "# smoking_restaurants = df6[df6['Smoker'] == 1.0].count()\n",
    "# non_smoking_restaurants = df6[df6['Non_smoking'] == 1.0].count()\n",
    "# outdoor_smoking_restaurants = df6[df6['Outdoor_smoking'] == 1.0].count()\n",
    "\n",
    "# smoking_restaurants = smoking_restaurants['Smoker']\n",
    "# non_smoking_restaurants = non_smoking_restaurants['Non_smoking']\n",
    "# outdoor_smoking_restaurants = outdoor_smoking_restaurants['Outdoor_smoking']\n",
    "\n",
    "\n",
    "# smoking_restaurants_df = pd.DataFrame({'Smoking Restaurants':smoking_restaurants, \n",
    "#                                        'Non-Smoking Restaurants': non_smoking_restaurants,\n",
    "#                                       'Outdoor Smoking Restaurants': outdoor_smoking_restaurants}, index=[0])\n",
    "# smoking_restaurants_df\n",
    "\n",
    "\n"
   ]
  },
  {
   "cell_type": "code",
   "execution_count": null,
   "metadata": {},
   "outputs": [],
   "source": []
  }
 ],
 "metadata": {
  "kernelspec": {
   "display_name": "Python 3",
   "language": "python",
   "name": "python3"
  },
  "language_info": {
   "codemirror_mode": {
    "name": "ipython",
    "version": 3
   },
   "file_extension": ".py",
   "mimetype": "text/x-python",
   "name": "python",
   "nbconvert_exporter": "python",
   "pygments_lexer": "ipython3",
   "version": "3.7.3"
  }
 },
 "nbformat": 4,
 "nbformat_minor": 2
}
