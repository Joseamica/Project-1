{
 "cells": [
  {
   "cell_type": "code",
   "execution_count": 1,
   "metadata": {},
   "outputs": [],
   "source": [
    "import pandas as pd\n",
    "import json"
   ]
  },
  {
   "cell_type": "code",
   "execution_count": 23,
   "metadata": {},
   "outputs": [
    {
     "data": {
      "text/plain": [
       "Restaurants, Pizza                                                                                                                                                                                                                                1042\n",
       "Nail Salons, Beauty & Spas                                                                                                                                                                                                                        1031\n",
       "Pizza, Restaurants                                                                                                                                                                                                                                 993\n",
       "Beauty & Spas, Nail Salons                                                                                                                                                                                                                         947\n",
       "Food, Coffee & Tea                                                                                                                                                                                                                                 888\n",
       "Mexican, Restaurants                                                                                                                                                                                                                               885\n",
       "Coffee & Tea, Food                                                                                                                                                                                                                                 865\n",
       "Restaurants, Mexican                                                                                                                                                                                                                               853\n",
       "Chinese, Restaurants                                                                                                                                                                                                                               840\n",
       "Hair Salons, Beauty & Spas                                                                                                                                                                                                                         831\n",
       "Beauty & Spas, Hair Salons                                                                                                                                                                                                                         819\n",
       "Restaurants, Chinese                                                                                                                                                                                                                               789\n",
       "Automotive, Auto Repair                                                                                                                                                                                                                            585\n",
       "Auto Repair, Automotive                                                                                                                                                                                                                            534\n",
       "Food, Grocery                                                                                                                                                                                                                                      492\n",
       "Grocery, Food                                                                                                                                                                                                                                      491\n",
       "Restaurants, Italian                                                                                                                                                                                                                               474\n",
       "Italian, Restaurants                                                                                                                                                                                                                               446\n",
       "Banks & Credit Unions, Financial Services                                                                                                                                                                                                          439\n",
       "Financial Services, Banks & Credit Unions                                                                                                                                                                                                          401\n",
       "Ice Cream & Frozen Yogurt, Food                                                                                                                                                                                                                    395\n",
       "Food, Ice Cream & Frozen Yogurt                                                                                                                                                                                                                    386\n",
       "Beauty & Spas, Barbers                                                                                                                                                                                                                             374\n",
       "Barbers, Beauty & Spas                                                                                                                                                                                                                             371\n",
       "Real Estate, Apartments, Home Services                                                                                                                                                                                                             340\n",
       "Apartments, Real Estate, Home Services                                                                                                                                                                                                             338\n",
       "Apartments, Home Services, Real Estate                                                                                                                                                                                                             335\n",
       "Real Estate, Home Services, Apartments                                                                                                                                                                                                             328\n",
       "Home Services, Real Estate, Apartments                                                                                                                                                                                                             319\n",
       "Home Services, Apartments, Real Estate                                                                                                                                                                                                             318\n",
       "                                                                                                                                                                                                                                                  ... \n",
       "Arts & Entertainment, Adult Entertainment, Nightlife                                                                                                                                                                                                 1\n",
       "Community Service/Non-Profit, Local Services, Professional Services                                                                                                                                                                                  1\n",
       "Doctors, Hospitals, Weight Loss Centers, Health & Medical                                                                                                                                                                                            1\n",
       "Event Planning & Services, Vegetarian, Caterers, Party & Event Planning, Restaurants, Indian                                                                                                                                                         1\n",
       "Seafood, Breakfast & Brunch, Restaurants                                                                                                                                                                                                             1\n",
       "Lawyers, Professional Services, General Litigation, Wills, Trusts, & Probates, Local Services, Estate Planning Law, Personal Injury Law, Business Law                                                                                                1\n",
       "Salad, Falafel, Mediterranean, Sandwiches, Middle Eastern, Restaurants                                                                                                                                                                               1\n",
       "Nightlife, Bars, Wine Bars, Piano Bars                                                                                                                                                                                                               1\n",
       "Shopping, Men's Clothing, Fashion, Women's Clothing, Jewelry                                                                                                                                                                                         1\n",
       "Hair Salons, Skin Care, Massage, Day Spas, Waxing, Eyelash Service, Hair Removal, Beauty & Spas                                                                                                                                                      1\n",
       "Electronics, Battery Stores, IT Services & Computer Repair, Lighting Fixtures & Equipment, Mobile Dent Repair, Home Services, Local Services, Electronics Repair, Automotive, Mobile Phone Repair, Shopping                                          1\n",
       "Cajun/Creole, Ethnic Food, Restaurants, Specialty Food, Food                                                                                                                                                                                         1\n",
       "Damage Restoration, Home Inspectors, Home Services, Contractors                                                                                                                                                                                      1\n",
       "Leather Goods, Shopping, Home & Garden, Arts & Crafts, Event Planning & Services, Home Decor, Children's Clothing, Arts & Entertainment, Fashion, Flowers & Gifts, Art Galleries, Coffee & Tea, Food, Jewelry, Accessories, Cards & Stationery       1\n",
       "Automotive, Hotels & Travel, Vehicle Shipping, Transportation                                                                                                                                                                                        1\n",
       "Hair Salons, Barbers, Beauty & Spas, Tanning, Hair Stylists                                                                                                                                                                                          1\n",
       "Coffee & Tea, Coffee Roasteries, Food, Sandwiches, Breakfast & Brunch, Restaurants                                                                                                                                                                   1\n",
       "Chiropractors, Active Life, Fitness & Instruction, Pilates, Trainers, Health & Medical, Physical Therapy, Yoga, Acupuncture                                                                                                                          1\n",
       "Afghan, Pakistani, Middle Eastern, Restaurants, Indian, American (Traditional), Halal                                                                                                                                                                1\n",
       "Kitchen & Bath, Contractors, Shopping, Home Services, Flooring, Home & Garden                                                                                                                                                                        1\n",
       "Chiropractors, Massage Therapy, Beauty & Spas, Acupuncture, Traditional Chinese Medicine, Health & Medical, Yoga, Active Life, Massage, Fitness & Instruction                                                                                        1\n",
       "Tours, Boating, Hotels & Travel, ATV Rentals/Tours, Active Life, Event Planning & Services, Boat Charters                                                                                                                                            1\n",
       "Indian, Restaurants, Pakistani, Halal                                                                                                                                                                                                                1\n",
       "Real Estate Services, Real Estate Agents, Commercial Real Estate, Home Services, Real Estate                                                                                                                                                         1\n",
       "Breakfast & Brunch, Tea Rooms, Restaurants, British, Desserts, Food, Gastropubs                                                                                                                                                                      1\n",
       "Bakeries, Restaurants, Latin American, Food                                                                                                                                                                                                          1\n",
       "Dog Parks, Parks, Playgrounds, Active Life, Amateur Sports Teams, Recreation Centers                                                                                                                                                                 1\n",
       "Event Planning & Services, Breakfast & Brunch, Restaurants, Diners, Caterers                                                                                                                                                                         1\n",
       "Martial Arts, Fitness & Instruction, Active Life, Karate                                                                                                                                                                                             1\n",
       "Barbeque, Salad, Nightlife, Steakhouses, Tapas Bars, Bars, Restaurants                                                                                                                                                                               1\n",
       "Name: categories, Length: 93385, dtype: int64"
      ]
     },
     "execution_count": 23,
     "metadata": {},
     "output_type": "execute_result"
    }
   ],
   "source": [
    "url = '/Users/mac/Downloads/yelp_dataset/'\n",
    "data = pd.read_json(url + 'business.json', lines=True)\n",
    "#data.loc[data['city'] == 'Guadalajara']\n",
    "#data.loc[data['categories'] == 'Hotels']\n",
    "data['categories'].value_counts()\n",
    "data[data['categories'].str.contains(\"Restaurants\")]"
   ]
  },
  {
   "cell_type": "code",
   "execution_count": null,
   "metadata": {},
   "outputs": [],
   "source": []
  }
 ],
 "metadata": {
  "kernelspec": {
   "display_name": "Python 3",
   "language": "python",
   "name": "python3"
  },
  "language_info": {
   "codemirror_mode": {
    "name": "ipython",
    "version": 3
   },
   "file_extension": ".py",
   "mimetype": "text/x-python",
   "name": "python",
   "nbconvert_exporter": "python",
   "pygments_lexer": "ipython3",
   "version": "3.7.3"
  }
 },
 "nbformat": 4,
 "nbformat_minor": 2
}
