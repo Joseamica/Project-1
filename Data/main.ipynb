{
 "cells": [
  {
   "cell_type": "code",
   "execution_count": 18,
   "metadata": {},
   "outputs": [],
   "source": [
    "# Import libraries and dependencies\n",
    "import pandas as pd\n",
    "import matplotlib.pyplot as plt\n",
    "import json\n",
    "import scipy\n",
    "import numpy as np\n",
    "from sklearn import preprocessing\n",
    "import math"
   ]
  },
  {
   "cell_type": "code",
   "execution_count": 2,
   "metadata": {},
   "outputs": [
    {
     "data": {
      "text/html": [
       "<div>\n",
       "<style scoped>\n",
       "    .dataframe tbody tr th:only-of-type {\n",
       "        vertical-align: middle;\n",
       "    }\n",
       "\n",
       "    .dataframe tbody tr th {\n",
       "        vertical-align: top;\n",
       "    }\n",
       "\n",
       "    .dataframe thead th {\n",
       "        text-align: right;\n",
       "    }\n",
       "</style>\n",
       "<table border=\"1\" class=\"dataframe\">\n",
       "  <thead>\n",
       "    <tr style=\"text-align: right;\">\n",
       "      <th></th>\n",
       "      <th>address</th>\n",
       "      <th>attributes</th>\n",
       "      <th>business_id</th>\n",
       "      <th>categories</th>\n",
       "      <th>city</th>\n",
       "      <th>hours</th>\n",
       "      <th>is_open</th>\n",
       "      <th>latitude</th>\n",
       "      <th>longitude</th>\n",
       "      <th>name</th>\n",
       "      <th>postal_code</th>\n",
       "      <th>review_count</th>\n",
       "      <th>stars</th>\n",
       "      <th>state</th>\n",
       "    </tr>\n",
       "  </thead>\n",
       "  <tbody>\n",
       "    <tr>\n",
       "      <th>0</th>\n",
       "      <td>2818 E Camino Acequia Drive</td>\n",
       "      <td>{'GoodForKids': 'False'}</td>\n",
       "      <td>1SWheh84yJXfytovILXOAQ</td>\n",
       "      <td>Golf, Active Life</td>\n",
       "      <td>Phoenix</td>\n",
       "      <td>None</td>\n",
       "      <td>0</td>\n",
       "      <td>33.522143</td>\n",
       "      <td>-112.018481</td>\n",
       "      <td>Arizona Biltmore Golf Club</td>\n",
       "      <td>85016</td>\n",
       "      <td>5</td>\n",
       "      <td>3.0</td>\n",
       "      <td>AZ</td>\n",
       "    </tr>\n",
       "    <tr>\n",
       "      <th>1</th>\n",
       "      <td>30 Eglinton Avenue W</td>\n",
       "      <td>{'RestaurantsReservations': 'True', 'GoodForMe...</td>\n",
       "      <td>QXAEGFB4oINsVuTFxEYKFQ</td>\n",
       "      <td>Specialty Food, Restaurants, Dim Sum, Imported...</td>\n",
       "      <td>Mississauga</td>\n",
       "      <td>{'Monday': '9:0-0:0', 'Tuesday': '9:0-0:0', 'W...</td>\n",
       "      <td>1</td>\n",
       "      <td>43.605499</td>\n",
       "      <td>-79.652289</td>\n",
       "      <td>Emerald Chinese Restaurant</td>\n",
       "      <td>L5R 3E7</td>\n",
       "      <td>128</td>\n",
       "      <td>2.5</td>\n",
       "      <td>ON</td>\n",
       "    </tr>\n",
       "    <tr>\n",
       "      <th>2</th>\n",
       "      <td>10110 Johnston Rd, Ste 15</td>\n",
       "      <td>{'GoodForKids': 'True', 'NoiseLevel': 'u'avera...</td>\n",
       "      <td>gnKjwL_1w79qoiV3IC_xQQ</td>\n",
       "      <td>Sushi Bars, Restaurants, Japanese</td>\n",
       "      <td>Charlotte</td>\n",
       "      <td>{'Monday': '17:30-21:30', 'Wednesday': '17:30-...</td>\n",
       "      <td>1</td>\n",
       "      <td>35.092564</td>\n",
       "      <td>-80.859132</td>\n",
       "      <td>Musashi Japanese Restaurant</td>\n",
       "      <td>28210</td>\n",
       "      <td>170</td>\n",
       "      <td>4.0</td>\n",
       "      <td>NC</td>\n",
       "    </tr>\n",
       "    <tr>\n",
       "      <th>3</th>\n",
       "      <td>15655 W Roosevelt St, Ste 237</td>\n",
       "      <td>None</td>\n",
       "      <td>xvX2CttrVhyG2z1dFg_0xw</td>\n",
       "      <td>Insurance, Financial Services</td>\n",
       "      <td>Goodyear</td>\n",
       "      <td>{'Monday': '8:0-17:0', 'Tuesday': '8:0-17:0', ...</td>\n",
       "      <td>1</td>\n",
       "      <td>33.455613</td>\n",
       "      <td>-112.395596</td>\n",
       "      <td>Farmers Insurance - Paul Lorenz</td>\n",
       "      <td>85338</td>\n",
       "      <td>3</td>\n",
       "      <td>5.0</td>\n",
       "      <td>AZ</td>\n",
       "    </tr>\n",
       "    <tr>\n",
       "      <th>4</th>\n",
       "      <td>4209 Stuart Andrew Blvd, Ste F</td>\n",
       "      <td>{'BusinessAcceptsBitcoin': 'False', 'ByAppoint...</td>\n",
       "      <td>HhyxOkGAM07SRYtlQ4wMFQ</td>\n",
       "      <td>Plumbing, Shopping, Local Services, Home Servi...</td>\n",
       "      <td>Charlotte</td>\n",
       "      <td>{'Monday': '7:0-23:0', 'Tuesday': '7:0-23:0', ...</td>\n",
       "      <td>1</td>\n",
       "      <td>35.190012</td>\n",
       "      <td>-80.887223</td>\n",
       "      <td>Queen City Plumbing</td>\n",
       "      <td>28217</td>\n",
       "      <td>4</td>\n",
       "      <td>4.0</td>\n",
       "      <td>NC</td>\n",
       "    </tr>\n",
       "  </tbody>\n",
       "</table>\n",
       "</div>"
      ],
      "text/plain": [
       "                          address  \\\n",
       "0     2818 E Camino Acequia Drive   \n",
       "1            30 Eglinton Avenue W   \n",
       "2       10110 Johnston Rd, Ste 15   \n",
       "3   15655 W Roosevelt St, Ste 237   \n",
       "4  4209 Stuart Andrew Blvd, Ste F   \n",
       "\n",
       "                                          attributes             business_id  \\\n",
       "0                           {'GoodForKids': 'False'}  1SWheh84yJXfytovILXOAQ   \n",
       "1  {'RestaurantsReservations': 'True', 'GoodForMe...  QXAEGFB4oINsVuTFxEYKFQ   \n",
       "2  {'GoodForKids': 'True', 'NoiseLevel': 'u'avera...  gnKjwL_1w79qoiV3IC_xQQ   \n",
       "3                                               None  xvX2CttrVhyG2z1dFg_0xw   \n",
       "4  {'BusinessAcceptsBitcoin': 'False', 'ByAppoint...  HhyxOkGAM07SRYtlQ4wMFQ   \n",
       "\n",
       "                                          categories         city  \\\n",
       "0                                  Golf, Active Life      Phoenix   \n",
       "1  Specialty Food, Restaurants, Dim Sum, Imported...  Mississauga   \n",
       "2                  Sushi Bars, Restaurants, Japanese    Charlotte   \n",
       "3                      Insurance, Financial Services     Goodyear   \n",
       "4  Plumbing, Shopping, Local Services, Home Servi...    Charlotte   \n",
       "\n",
       "                                               hours  is_open   latitude  \\\n",
       "0                                               None        0  33.522143   \n",
       "1  {'Monday': '9:0-0:0', 'Tuesday': '9:0-0:0', 'W...        1  43.605499   \n",
       "2  {'Monday': '17:30-21:30', 'Wednesday': '17:30-...        1  35.092564   \n",
       "3  {'Monday': '8:0-17:0', 'Tuesday': '8:0-17:0', ...        1  33.455613   \n",
       "4  {'Monday': '7:0-23:0', 'Tuesday': '7:0-23:0', ...        1  35.190012   \n",
       "\n",
       "    longitude                             name postal_code  review_count  \\\n",
       "0 -112.018481       Arizona Biltmore Golf Club       85016             5   \n",
       "1  -79.652289       Emerald Chinese Restaurant     L5R 3E7           128   \n",
       "2  -80.859132      Musashi Japanese Restaurant       28210           170   \n",
       "3 -112.395596  Farmers Insurance - Paul Lorenz       85338             3   \n",
       "4  -80.887223              Queen City Plumbing       28217             4   \n",
       "\n",
       "   stars state  \n",
       "0    3.0    AZ  \n",
       "1    2.5    ON  \n",
       "2    4.0    NC  \n",
       "3    5.0    AZ  \n",
       "4    4.0    NC  "
      ]
     },
     "execution_count": 2,
     "metadata": {},
     "output_type": "execute_result"
    }
   ],
   "source": [
    "# Specify relative path\n",
    "url = './yelp_dataset/'\n",
    "\n",
    "# Convert JSON to pandas DataFrame\n",
    "data = pd.read_json(url + 'business.json', lines=True)\n",
    "\n",
    "# Filter data by business of interest: Restaurants \n",
    "    # restaurants_filter = data[data['categories'].str.contains(\"Restaurants\") == True]\n",
    "\n",
    "# Display First 5 instances of the data\n",
    "data.head()"
   ]
  },
  {
   "cell_type": "code",
   "execution_count": 3,
   "metadata": {},
   "outputs": [
    {
     "data": {
      "text/html": [
       "<div>\n",
       "<style scoped>\n",
       "    .dataframe tbody tr th:only-of-type {\n",
       "        vertical-align: middle;\n",
       "    }\n",
       "\n",
       "    .dataframe tbody tr th {\n",
       "        vertical-align: top;\n",
       "    }\n",
       "\n",
       "    .dataframe thead th {\n",
       "        text-align: right;\n",
       "    }\n",
       "</style>\n",
       "<table border=\"1\" class=\"dataframe\">\n",
       "  <thead>\n",
       "    <tr style=\"text-align: right;\">\n",
       "      <th></th>\n",
       "      <th>is_open</th>\n",
       "      <th>latitude</th>\n",
       "      <th>longitude</th>\n",
       "      <th>review_count</th>\n",
       "      <th>stars</th>\n",
       "    </tr>\n",
       "  </thead>\n",
       "  <tbody>\n",
       "    <tr>\n",
       "      <th>count</th>\n",
       "      <td>192609.000000</td>\n",
       "      <td>192609.000000</td>\n",
       "      <td>192609.000000</td>\n",
       "      <td>192609.000000</td>\n",
       "      <td>192609.000000</td>\n",
       "    </tr>\n",
       "    <tr>\n",
       "      <th>mean</th>\n",
       "      <td>0.823040</td>\n",
       "      <td>38.541803</td>\n",
       "      <td>-97.594785</td>\n",
       "      <td>33.538962</td>\n",
       "      <td>3.585627</td>\n",
       "    </tr>\n",
       "    <tr>\n",
       "      <th>std</th>\n",
       "      <td>0.381635</td>\n",
       "      <td>4.941964</td>\n",
       "      <td>16.697725</td>\n",
       "      <td>110.135224</td>\n",
       "      <td>1.018458</td>\n",
       "    </tr>\n",
       "    <tr>\n",
       "      <th>min</th>\n",
       "      <td>0.000000</td>\n",
       "      <td>33.204642</td>\n",
       "      <td>-115.493471</td>\n",
       "      <td>3.000000</td>\n",
       "      <td>1.000000</td>\n",
       "    </tr>\n",
       "    <tr>\n",
       "      <th>25%</th>\n",
       "      <td>1.000000</td>\n",
       "      <td>33.637408</td>\n",
       "      <td>-112.274677</td>\n",
       "      <td>4.000000</td>\n",
       "      <td>3.000000</td>\n",
       "    </tr>\n",
       "    <tr>\n",
       "      <th>50%</th>\n",
       "      <td>1.000000</td>\n",
       "      <td>36.144815</td>\n",
       "      <td>-111.759323</td>\n",
       "      <td>9.000000</td>\n",
       "      <td>3.500000</td>\n",
       "    </tr>\n",
       "    <tr>\n",
       "      <th>75%</th>\n",
       "      <td>1.000000</td>\n",
       "      <td>43.602989</td>\n",
       "      <td>-79.983614</td>\n",
       "      <td>25.000000</td>\n",
       "      <td>4.500000</td>\n",
       "    </tr>\n",
       "    <tr>\n",
       "      <th>max</th>\n",
       "      <td>1.000000</td>\n",
       "      <td>51.299943</td>\n",
       "      <td>-72.911982</td>\n",
       "      <td>8348.000000</td>\n",
       "      <td>5.000000</td>\n",
       "    </tr>\n",
       "  </tbody>\n",
       "</table>\n",
       "</div>"
      ],
      "text/plain": [
       "             is_open       latitude      longitude   review_count  \\\n",
       "count  192609.000000  192609.000000  192609.000000  192609.000000   \n",
       "mean        0.823040      38.541803     -97.594785      33.538962   \n",
       "std         0.381635       4.941964      16.697725     110.135224   \n",
       "min         0.000000      33.204642    -115.493471       3.000000   \n",
       "25%         1.000000      33.637408    -112.274677       4.000000   \n",
       "50%         1.000000      36.144815    -111.759323       9.000000   \n",
       "75%         1.000000      43.602989     -79.983614      25.000000   \n",
       "max         1.000000      51.299943     -72.911982    8348.000000   \n",
       "\n",
       "               stars  \n",
       "count  192609.000000  \n",
       "mean        3.585627  \n",
       "std         1.018458  \n",
       "min         1.000000  \n",
       "25%         3.000000  \n",
       "50%         3.500000  \n",
       "75%         4.500000  \n",
       "max         5.000000  "
      ]
     },
     "execution_count": 3,
     "metadata": {},
     "output_type": "execute_result"
    }
   ],
   "source": [
    "# Get descriptive stats of the data\n",
    "description = data.describe()"
   ]
  },
  {
   "cell_type": "code",
   "execution_count": 8,
   "metadata": {},
   "outputs": [
    {
     "data": {
      "text/plain": [
       "address             0\n",
       "attributes      28836\n",
       "business_id         0\n",
       "categories        482\n",
       "city                0\n",
       "hours           44830\n",
       "is_open             0\n",
       "latitude            0\n",
       "longitude           0\n",
       "name                0\n",
       "postal_code         0\n",
       "review_count        0\n",
       "stars               0\n",
       "state               0\n",
       "dtype: int64"
      ]
     },
     "execution_count": 8,
     "metadata": {},
     "output_type": "execute_result"
    }
   ],
   "source": [
    "# Check for missing values\n",
    "miss_values = data.isna().sum()\n",
    "\n",
    "# Display missing values per column \n",
    "miss_values\n",
    "# For general purpose analysis, the columns that contains missing values doesn't need to have your rows excluded\n",
    "# Futher analysis however can filter those values if necessary"
   ]
  },
  {
   "cell_type": "code",
   "execution_count": 60,
   "metadata": {},
   "outputs": [
    {
     "data": {
      "image/png": "[encoded data removed]",
      "text/plain": [
       "<Figure size 432x288 with 1 Axes>"
      ]
     },
     "metadata": {
      "needs_background": "light"
     },
     "output_type": "display_data"
    }
   ],
   "source": [
    "# Check the sparsity between reviews count and stars\n",
    "    # Get the average reviews count per stars category\n",
    "stars_group = data.groupby('stars').mean().reset_index() \n",
    "\n",
    "    # Get the SEM of reviews count per stars category\n",
    "sem_stars_group = data.groupby('stars').sem().reset_index()\n",
    "\n",
    "    # Plot error bar chart of the distribution of reviews count per star category\n",
    "plt.bar(stars_group['stars'],\n",
    "        stars_group['review_count'],\n",
    "        yerr=sem_stars_group['review_count'],\n",
    "        width=0.3,\n",
    "        )\n",
    "plt.xticks(stars_group['stars'])\n",
    "plt.ylabel(\"Reviews Count\")\n",
    "plt.xlabel(\"Stars\")\n",
    "plt.show()"
   ]
  },
  {
   "cell_type": "code",
   "execution_count": 10,
   "metadata": {},
   "outputs": [
    {
     "data": {
      "image/png": "[encoded data removed]",
      "text/plain": [
       "<Figure size 432x288 with 1 Axes>"
      ]
     },
     "metadata": {
      "needs_background": "light"
     },
     "output_type": "display_data"
    }
   ],
   "source": [
    "# Check for the distribution of observations by stars\n",
    "count_stars = data.groupby('stars').count().reset_index()\n",
    "\n",
    "plt.bar(stars_group['stars'],\n",
    "        count_stars['review_count'],\n",
    "        width=0.3,\n",
    "        )\n",
    "plt.xticks(stars_group['stars'])\n",
    "plt.ylabel(\"Count\")\n",
    "plt.xlabel(\"Stars\")\n",
    "plt.show()"
   ]
  },
  {
   "cell_type": "code",
   "execution_count": 65,
   "metadata": {},
   "outputs": [
    {
     "data": {
      "image/png": "[encoded data removed]",
      "text/plain": [
       "<Figure size 432x288 with 1 Axes>"
      ]
     },
     "metadata": {
      "needs_background": "light"
     },
     "output_type": "display_data"
    }
   ],
   "source": [
    "# Create a Key Performance Indicator for the \"success\" of a business in yelp\n",
    "    # Slicing stars and reviews count\n",
    "stars_df = data['stars']\n",
    "lb = 1\n",
    "log_reviews_count_array = np.log(data['review_count']*\\\n",
    "                                 data['review_count']/\\\n",
    "                                 (data['review_count']+lb))\n",
    "# # log_reviews_count_array\n",
    "#     # Normalize reviews_array\n",
    "norm_reviews_count = preprocessing.normalize([log_reviews_count_array])\n",
    "norm_reviews_count = norm_reviews_count[0]\n",
    "plt.hist(norm_reviews_count, bins=1000)\n",
    "plt.show()"
   ]
  },
  {
   "cell_type": "code",
   "execution_count": 61,
   "metadata": {},
   "outputs": [
    {
     "data": {
      "image/png": "[encoded data removed]",
      "text/plain": [
       "<Figure size 432x288 with 1 Axes>"
      ]
     },
     "metadata": {
      "needs_background": "light"
     },
     "output_type": "display_data"
    }
   ],
   "source": [
    "# Create column of KPI\n",
    "\n",
    "score = []\n",
    "\n",
    "for review in data['review_count']:\n",
    "    # Until mean receive score 0.6\n",
    "    if review <= 34:\n",
    "        score.append(0.6)\n",
    "    # Until mean + std dev receive score 0.7\n",
    "    elif review <= 144:\n",
    "        score.append(0.7)\n",
    "    # Until mean + 2*std dev receive score 0.8\n",
    "    elif review <= 254:\n",
    "        score.append(0.8)\n",
    "    # Until mean + 3*std dev receive score 0.9\n",
    "    elif review <= 364:\n",
    "        score.append(0.9)\n",
    "    # Above mean + 3*std dev receive score 1.0\n",
    "    else:\n",
    "        score.append(1.0)\n",
    "\n",
    "# Standardize stars column\n",
    "    # Create the Scaler object\n",
    "scaler = preprocessing.StandardScaler()\n",
    "\n",
    "    # Apply scaler to stars column\n",
    "standard_stars = scaler.fit_transform(np.array(data['stars']).reshape(-1, 1))\n",
    "\n",
    "    # Insert standardized column to dataframe\n",
    "data['Standardized Stars'] = standard_stars\n",
    "\n",
    "\n",
    "# Insert KPI column to dataframe\n",
    "data['KPI'] = data['Standardized Stars']*score\n",
    "\n",
    "# Plot distribution density of the KPI\n",
    "plt.hist(data['KPI'], bins=30)\n",
    "plt.show()"
   ]
  },
  {
   "cell_type": "code",
   "execution_count": 63,
   "metadata": {},
   "outputs": [
    {
     "data": {
      "text/plain": [
       "count    192609.000000\n",
       "mean          0.003623\n",
       "std           0.614873\n",
       "min          -2.538772\n",
       "25%          -0.345009\n",
       "50%          -0.050445\n",
       "75%           0.538682\n",
       "max           1.388743\n",
       "Name: KPI, dtype: float64"
      ]
     },
     "execution_count": 63,
     "metadata": {},
     "output_type": "execute_result"
    }
   ],
   "source": [
    "# Descriptive statistics about the KPI\n",
    "data['KPI'].describe()"
   ]
  },
  {
   "cell_type": "code",
   "execution_count": 64,
   "metadata": {},
   "outputs": [],
   "source": [
    "# Export modified data to csv file\n",
    "data.to_csv(\"yelp_business.csv\")"
   ]
  },
  {
   "cell_type": "code",
   "execution_count": null,
   "metadata": {},
   "outputs": [],
   "source": []
  }
 ],
 "metadata": {
  "kernelspec": {
   "display_name": "Python 3",
   "language": "python",
   "name": "python3"
  },
  "language_info": {
   "codemirror_mode": {
    "name": "ipython",
    "version": 3
   },
   "file_extension": ".py",
   "mimetype": "text/x-python",
   "name": "python",
   "nbconvert_exporter": "python",
   "pygments_lexer": "ipython3",
   "version": "3.7.3"
  }
 },
 "nbformat": 4,
 "nbformat_minor": 2
}
